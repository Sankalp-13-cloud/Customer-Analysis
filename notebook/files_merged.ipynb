{
 "cells": [
  {
   "cell_type": "code",
   "execution_count": 1,
   "id": "ffdb0184",
   "metadata": {},
   "outputs": [],
   "source": [
    "import pandas as pd"
   ]
  },
  {
   "cell_type": "code",
   "execution_count": 2,
   "id": "8e9820b4",
   "metadata": {},
   "outputs": [],
   "source": [
    "\n",
    "# Read cleaned data files (assumes headers are in all three)\n",
    "df1 = pd.read_csv(\"f:/Prateek/Study material/Datamites/customer-segmentation/data/processed/processedfile1.csv\")\n",
    "df2 = pd.read_csv(\"f:/Prateek/Study material/Datamites/customer-segmentation/data/processed/processedfile2.csv\")\n",
    "df3 = pd.read_csv(\"f:/Prateek/Study material/Datamites/customer-segmentation/data/processed/processedfile3.csv\")\n",
    "\n"
   ]
  },
  {
   "cell_type": "code",
   "execution_count": 3,
   "id": "1c8fc2d9",
   "metadata": {},
   "outputs": [],
   "source": [
    "df_merged = pd.concat([df1, df2, df3], ignore_index=True)"
   ]
  },
  {
   "cell_type": "code",
   "execution_count": 4,
   "id": "08c14f2c",
   "metadata": {},
   "outputs": [],
   "source": [
    "output_file_path = r\"f:/Prateek/Study material/Datamites/customer-segmentation/data/processed/mergedfile.csv\"\n",
    "\n",
    "df_merged.to_csv(output_file_path, index=False)"
   ]
  }
 ],
 "metadata": {
  "kernelspec": {
   "display_name": "venv",
   "language": "python",
   "name": "python3"
  },
  "language_info": {
   "codemirror_mode": {
    "name": "ipython",
    "version": 3
   },
   "file_extension": ".py",
   "mimetype": "text/x-python",
   "name": "python",
   "nbconvert_exporter": "python",
   "pygments_lexer": "ipython3",
   "version": "3.12.7"
  }
 },
 "nbformat": 4,
 "nbformat_minor": 5
}
